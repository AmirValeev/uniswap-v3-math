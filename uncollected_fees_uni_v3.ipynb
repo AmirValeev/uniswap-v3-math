{
  "nbformat": 4,
  "nbformat_minor": 0,
  "metadata": {
    "colab": {
      "name": "uncollected_fees_uni_v3.ipynb",
      "provenance": []
    },
    "kernelspec": {
      "name": "python3",
      "display_name": "Python 3"
    },
    "language_info": {
      "name": "python"
    }
  },
  "cells": [
    {
      "cell_type": "markdown",
      "source": [
        "Functions for amount of tokens\n",
        "\n",
        "\n"
      ],
      "metadata": {
        "id": "EyeEJWXJ6HDr"
      }
    },
    {
      "cell_type": "code",
      "execution_count": null,
      "metadata": {
        "id": "MbMlh-yHQxwT"
      },
      "outputs": [],
      "source": [
        "def get_amount0(sqrtA, sqrtB, liquidity, decimals):\n",
        "\n",
        "    if sqrtA > sqrtB:\n",
        "        (sqrtA, sqrtB) = (sqrtB, sqrtA)\n",
        "\n",
        "    amount0 = (liquidity * 2 ** 96 * (sqrtB - sqrtA) / sqrtB / sqrtA) / 10 ** decimals\n",
        "\n",
        "    return amount0\n",
        "\n",
        "\n",
        "def get_amount1(sqrtA, sqrtB, liquidity, decimals):\n",
        "\n",
        "    if sqrtA > sqrtB:\n",
        "        (sqrtA, sqrtB) = (sqrtB, sqrtA)\n",
        "\n",
        "    amount1 = liquidity * (sqrtB - sqrtA) / 2 ** 96 / 10 ** decimals\n",
        "\n",
        "    return amount1\n",
        "\n",
        "def get_amounts(tick, tickA, tickB, liquidity, decimal0, decimal1):\n",
        "\n",
        "    sqrt = int(1.0001 ** (tick / 2) * (2 ** 96))\n",
        "    sqrtA = int(1.0001 ** (tickA / 2) * (2 ** 96))\n",
        "    sqrtB = int(1.0001 ** (tickB / 2) * (2 ** 96))\n",
        "\n",
        "    if sqrtA > sqrtB:\n",
        "        (sqrtA, sqrtB) = (sqrtB, sqrtA)\n",
        "\n",
        "    if sqrt <= sqrtA:\n",
        "\n",
        "        amount0 = get_amount0(sqrtA, sqrtB, liquidity, decimal0)\n",
        "        return amount0, 0\n",
        "\n",
        "    elif sqrtB > sqrt > sqrtA:\n",
        "        amount0 = get_amount0(sqrt, sqrtB, liquidity, decimal0)\n",
        "        amount1 = get_amount1(sqrtA, sqrt, liquidity, decimal1)\n",
        "        return amount0, amount1\n",
        "\n",
        "    else:\n",
        "        amount1 = get_amount1(sqrtA, sqrtB, liquidity, decimal1)\n",
        "        return 0, amount1\n",
        "    \n",
        "    \n",
        "def amounts_relation(tick, tickA, tickB, decimals0, decimals1):\n",
        "\n",
        "    sqrt = (1.0001 ** tick / 10 ** (decimals1 - decimals0)) ** (1 / 2)\n",
        "    sqrtA = (1.0001 ** tickA / 10 ** (decimals1 - decimals0)) ** (1 / 2)\n",
        "    sqrtB = (1.0001 ** tickB / 10 ** (decimals1 - decimals0)) ** (1 / 2)\n",
        "\n",
        "    if sqrt == sqrtA or sqrt == sqrtB:\n",
        "        relation = 0\n",
        "    #         print(\"There is 0 tokens on one side\")\n",
        "    else:\n",
        "        relation = (sqrt - sqrtA) / ((1 / sqrt) - (1 / sqrtB))\n",
        "    return relation"
      ]
    },
    {
      "cell_type": "markdown",
      "source": [
        "Position information"
      ],
      "metadata": {
        "id": "nOcsNELy57ZS"
      }
    },
    {
      "cell_type": "code",
      "source": [
        "# Position https://etherscan.io/address/0xc36442b4a4522e871399cd717abdd847ab11fe88#readContract\n",
        "# TokenId 236595\n",
        "# Transaction - https://etherscan.io/tx/0x9b173baa9442fcb53cdde9876eaabeac9a71ff93d822e5398b5cfd6a5d38a199\n",
        "dec_0 = 6\n",
        "dec_1 = 18\n",
        "\n",
        "token0 = 0xA0b86991c6218b36c1d19D4a2e9Eb0cE3606eB48\n",
        "token1 = 0xC02aaA39b223FE8D0A0e5C4F27eAD9083C756Cc2\n",
        "fee = 3000\n",
        "tickLower = 196200\n",
        "tickUpper = 201660\n",
        "pos_liquidity = 26938023944267617\n",
        "feeGrowthInside0LastX128 = 1146045437454411223706317130808195 / 2**128\n",
        "feeGrowthInside1LastX128 = 472868971286049499087619319314568638950194 / 2**128\n",
        "\n",
        "tokensOwed0 = 863372171 / 10**dec_0\n",
        "tokensOwed1 = 362821509667276570 / 10**dec_1\n",
        "\n"
      ],
      "metadata": {
        "id": "-J7KgcXuQzfz"
      },
      "execution_count": null,
      "outputs": []
    },
    {
      "cell_type": "markdown",
      "source": [
        "Pool Information"
      ],
      "metadata": {
        "id": "a8473UK46BBd"
      }
    },
    {
      "cell_type": "code",
      "source": [
        "# Pool - https://etherscan.io/address/0x8ad599c3a0ff1de082011efddc58f1908eb6e6d8#readContract\n",
        "\n",
        "sqrtPriceX96 =  1617871362335671645645002850471718 / 2**96\n",
        "tick = 198495\n",
        "observationIndex = 976\n",
        "observationCardinality = 1440\n",
        "observationCardinalityNext = 1440\n",
        "feeProtocol = 0\n",
        "\n",
        "liquidity = 10200180983978284202\n",
        "\n",
        "feeGrowthGlobal0X128 = 2046477727527315981651672382110787 / 2**128\n",
        "feeGrowthGlobal1X128 = 724331803708946607581226850148167065366051 / 2**128\n",
        "\n",
        "\n",
        "\n",
        "# ticks tickLower, tickUpper info\n",
        "\n",
        "#Lower\n",
        "L_liquidityGross = 18216572431750930\n",
        "L_liquidityNet = 18216572431750930\n",
        "L_feeGrowthOutside0X128 = 771898924715078716122457993949735 / 2**128\n",
        "L_feeGrowthOutside1X128 = 299686152818024558401586591746381951788873 / 2**128\n",
        "L_tickCumulativeOutside = 874561673429\n",
        "L_secondsPerLiquidityOutsideX128 = 198044337547991777424606226079348331092728 / 2**128\n",
        "L_secondsOutside = 1624605540\n",
        "L_initialized = True\n",
        "\n",
        "#Upper\n",
        "U_liquidityGross = 1683230461217016778\n",
        "U_liquidityNet = 1299234642981930080\n",
        "U_feeGrowthOutside0X128 = 1226433780500214190158000189806691 / 2**128\n",
        "U_feeGrowthOutside1X128 = 365746732484003642662975858100178521758045 / 2**128\n",
        "U_tickCumulativeOutside = 4519733975844\n",
        "U_secondsPerLiquidityOutsideX128 = 198044337547992220998400984601510297703566 / 2**128\n",
        "U_secondsOutside = 1643365229\n",
        "U_initialized = True"
      ],
      "metadata": {
        "id": "Gp36LGreQ74e"
      },
      "execution_count": null,
      "outputs": []
    },
    {
      "cell_type": "markdown",
      "source": [
        "Each token amounts in pool by provider - USDC / WETH "
      ],
      "metadata": {
        "id": "NdyNXF7t8AUC"
      }
    },
    {
      "cell_type": "code",
      "source": [
        "print(*get_amounts(tick,tickLower, tickUpper, pos_liquidity, dec_0, dec_1))"
      ],
      "metadata": {
        "colab": {
          "base_uri": "https://localhost:8080/"
        },
        "id": "oLNYFtXa8CUW",
        "outputId": "8e9e31ef-8713-4764-847c-b86bf4e42edd"
      },
      "execution_count": null,
      "outputs": [
        {
          "output_type": "stream",
          "name": "stdout",
          "text": [
            "193076.88153517284 59.630328294076946\n"
          ]
        }
      ]
    },
    {
      "cell_type": "code",
      "source": [
        "print(' Fees collected across all ranges (token 0), feeGrowthGlobal0X128 - ',feeGrowthGlobal0X128 / 10**dec_0 * pos_liquidity, '\\n',\n",
        "      'Fees collected below tickLower (token 0), L_feeGrowthOutside0X128 - ',L_feeGrowthOutside0X128 / 10**dec_0 * pos_liquidity, '\\n',\n",
        "      'Fees collected above tickUpper (token 0), U_feeGrowthOutside0X128 - ',U_feeGrowthOutside0X128/ 10**dec_0 * pos_liquidity, '\\n')"
      ],
      "metadata": {
        "colab": {
          "base_uri": "https://localhost:8080/"
        },
        "id": "vcTXZ-z4XzHJ",
        "outputId": "107bb387-8134-4989-beab-5da8394bd011"
      },
      "execution_count": null,
      "outputs": [
        {
          "output_type": "stream",
          "name": "stdout",
          "text": [
            " Fees collected across all ranges (token 0), feeGrowthGlobal0X128 -  162006.82546195443 \n",
            " Fees collected below tickLower (token 0), L_feeGrowthOutside0X128 -  61106.40379247269 \n",
            " Fees collected above tickUpper (token 0), U_feeGrowthOutside0X128 -  97089.08176499617 \n",
            "\n"
          ]
        }
      ]
    },
    {
      "cell_type": "markdown",
      "source": [
        "This one is a little bit confusing\n",
        "\n"
      ],
      "metadata": {
        "id": "HjziE7067ECY"
      }
    },
    {
      "cell_type": "code",
      "source": [
        "print('Fees collected in range [tokenLower, tokenUpper], before fees was collected last time \\n(according to whitepaper - IMO not true)  (token 0), feeGrowthInside0LastX128 - ', feeGrowthInside0LastX128/ 10**dec_0 * pos_liquidity)"
      ],
      "metadata": {
        "colab": {
          "base_uri": "https://localhost:8080/"
        },
        "id": "l7XgcD0vYBR-",
        "outputId": "0cceaa5d-c94c-4c7b-e820-c05057206572"
      },
      "execution_count": null,
      "outputs": [
        {
          "output_type": "stream",
          "name": "stdout",
          "text": [
            "Fees collected in range [tokenLower, tokenUpper], before fees was collected last time \n",
            "(according to whitepaper - IMO not true)  (token 0), feeGrowthInside0LastX128 -  90725.24008432815\n"
          ]
        }
      ]
    },
    {
      "cell_type": "markdown",
      "source": [
        "All same are for token 1"
      ],
      "metadata": {
        "id": "u8Msmm4s71H8"
      }
    },
    {
      "cell_type": "code",
      "source": [
        "print(' Fees collected across all ranges (token 1), feeGrowthGlobal1X128 - ',feeGrowthGlobal1X128 / 10**dec_1 * pos_liquidity, '\\n',\n",
        "      'Fees collected below tickLower (token 1), L_feeGrowthOutside1X128 - ',L_feeGrowthOutside1X128 / 10**dec_1 * pos_liquidity, '\\n',\n",
        "      'Fees collected above tickUpper (token 1), U_feeGrowthOutside1X128 - ',U_feeGrowthOutside1X128/ 10**dec_1 * pos_liquidity, '\\n')"
      ],
      "metadata": {
        "colab": {
          "base_uri": "https://localhost:8080/"
        },
        "outputId": "e512caaf-317a-4314-8f6d-308940f52fb6",
        "id": "Oz1ldBHc9BqR"
      },
      "execution_count": null,
      "outputs": [
        {
          "output_type": "stream",
          "name": "stdout",
          "text": [
            " Fees collected across all ranges (token 1), feeGrowthGlobal1X128 -  57.3408127152225 \n",
            " Fees collected below tickLower (token 1), L_feeGrowthOutside1X128 -  23.724275910697035 \n",
            " Fees collected above tickUpper (token 1), U_feeGrowthOutside1X128 -  28.95387829332006 \n",
            "\n"
          ]
        }
      ]
    },
    {
      "cell_type": "code",
      "source": [
        "print('Fees collected in range [tokenLower, tokenUpper], before fees was collected last time \\n(according to whitepaper - IMO not true)  (token 1), feeGrowthInside1LastX128 - ', feeGrowthInside1LastX128/ 10**dec_1 * pos_liquidity)"
      ],
      "metadata": {
        "colab": {
          "base_uri": "https://localhost:8080/"
        },
        "outputId": "2bdb2a1b-1e5f-4fe8-fa6b-cf272952fb4b",
        "id": "GwKSWLZE9BqV"
      },
      "execution_count": null,
      "outputs": [
        {
          "output_type": "stream",
          "name": "stdout",
          "text": [
            "Fees collected in range [tokenLower, tokenUpper], before fees was collected last time \n",
            "(according to whitepaper - IMO not true)  (token 1), feeGrowthInside1LastX128 -  37.43407507790256\n"
          ]
        }
      ]
    },
    {
      "cell_type": "code",
      "source": [
        "# Function to find f_r from whitepaper\n",
        "\n",
        "def get_fees_for_range(tick, tickA, tickB, feeGrowthGlobal, U_feeGrowthOutside, L_feeGrowthOutside, decimals):\n",
        "    if tick >= tickB:\n",
        "        f_a = feeGrowthGlobal - U_feeGrowthOutside\n",
        "    else:\n",
        "        f_a = U_feeGrowthOutside\n",
        "    \n",
        "    if tick >= tickA:\n",
        "        f_b = L_feeGrowthOutside\n",
        "    else:\n",
        "        f_b = feeGrowthGlobal - L_feeGrowthOutside\n",
        "\n",
        "    f_range = feeGrowthGlobal - f_a - f_b\n",
        "    \n",
        "    return (f_range ) / 10**decimals"
      ],
      "metadata": {
        "id": "UEhwjnuIRIUE"
      },
      "execution_count": null,
      "outputs": []
    },
    {
      "cell_type": "code",
      "source": [
        "fees_0 = get_fees_for_range(tick, tickLower, tickUpper, feeGrowthGlobal1X128, U_feeGrowthOutside1X128, L_feeGrowthOutside1X128, dec_1)* pos_liquidity\n",
        "fees_1 = get_fees_for_range(tick, tickLower, tickUpper, feeGrowthGlobal0X128, U_feeGrowthOutside0X128, L_feeGrowthOutside0X128, dec_0)* pos_liquidity\n",
        "\n",
        "print( \"Ucollected fees in 0 token for now, f_r - \",fees_0)\n",
        "print(\"Ucollected fees in 0 token for now, f_r - \", fees_1)"
      ],
      "metadata": {
        "colab": {
          "base_uri": "https://localhost:8080/"
        },
        "id": "mv4YwncN4BCu",
        "outputId": "6fb88d61-9fad-4c0f-d21d-658b3eb4eca6"
      },
      "execution_count": null,
      "outputs": [
        {
          "output_type": "stream",
          "name": "stdout",
          "text": [
            "Ucollected fees in 0 token for now, f_r -  4.6626585112054\n",
            "Ucollected fees in 0 token for now, f_r -  3811.339904485574\n"
          ]
        }
      ]
    },
    {
      "cell_type": "markdown",
      "source": [
        "Whitepaper gives strange definition to uncollected fees, which is **f_uncollected = f_r - feeGrowthInsideLast**"
      ],
      "metadata": {
        "id": "XIu7unnn4di8"
      }
    },
    {
      "cell_type": "code",
      "source": [
        "#calculate uncollected fees (whitepaper)\n",
        "def fees_uncollected_position(tick, tickA, tickB, feeGrowthGlobal, U_feeGrowthOutside, L_feeGrowthOutside, feeGrowthInside, pos_liquidity, decimals):\n",
        "    f_range_uncollected = get_fees_for_range(tick, tickA, tickB, feeGrowthGlobal, U_feeGrowthOutside, L_feeGrowthOutside, decimals)\n",
        "    return pos_liquidity * (f_range_uncollected - feeGrowthInside / 10**decimals)"
      ],
      "metadata": {
        "id": "kUd5BDgtR3GR"
      },
      "execution_count": null,
      "outputs": []
    },
    {
      "cell_type": "code",
      "source": [
        "print(\"Uncollected fees in 0 token for now (whitepaper): \", fees_uncollected_position(tick, tickLower, tickUpper, feeGrowthGlobal1X128, U_feeGrowthOutside1X128, L_feeGrowthOutside1X128, feeGrowthInside1LastX128, pos_liquidity, dec_1))\n",
        "\n"
      ],
      "metadata": {
        "colab": {
          "base_uri": "https://localhost:8080/"
        },
        "id": "SBymmQWwTESz",
        "outputId": "5ac39e49-9a72-45aa-888f-b9f583628140"
      },
      "execution_count": null,
      "outputs": [
        {
          "output_type": "stream",
          "name": "stdout",
          "text": [
            "Uncollected fees in 0 token for now (whitepaper):  -32.77141656669716\n"
          ]
        }
      ]
    },
    {
      "cell_type": "code",
      "source": [
        "print(\"Uncollected fees in 1 token for now (whitepaper): \", fees_uncollected_position(tick, tickLower, tickUpper, feeGrowthGlobal0X128, U_feeGrowthOutside0X128, L_feeGrowthOutside0X128, feeGrowthInside0LastX128, pos_liquidity, dec_0))\n",
        "\n"
      ],
      "metadata": {
        "colab": {
          "base_uri": "https://localhost:8080/"
        },
        "id": "lijt-ZYqTKez",
        "outputId": "0c24a490-ff6d-4cd1-8d5b-b3928d275c8e"
      },
      "execution_count": null,
      "outputs": [
        {
          "output_type": "stream",
          "name": "stdout",
          "text": [
            "Uncollected fees in 1 token for now (whitepaper):  -86913.90017984257\n"
          ]
        }
      ]
    },
    {
      "cell_type": "markdown",
      "source": [
        "Probably this happend because in order for this to be true there must be some special conditions on position. But i havent found one, where this expression is True. In everyone uncollected fees was **less than 0**"
      ],
      "metadata": {
        "id": "rQw3dRYo-dUG"
      }
    }
  ]
}